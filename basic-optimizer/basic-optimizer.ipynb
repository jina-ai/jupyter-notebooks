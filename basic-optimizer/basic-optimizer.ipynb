{
 "cells": [
  {
   "cell_type": "markdown",
   "id": "tutorial-consumer",
   "metadata": {},
   "source": [
    "## Flow Optimization\n",
    "\n",
    "Flow Optimization gets the most out of your data.\n",
    "It allows hyper parameter optimization on a complete search Flow, including indexing and querying.\n",
    "For example, choosing a middle layer of a model often results in richer semantic embeddings.\n",
    "Let's test through all layers of a model."
   ]
  },
  {
   "cell_type": "markdown",
   "id": "dominant-advancement",
   "metadata": {},
   "source": [
    "### Setup\n",
    "\n",
    "Before we start, we need to install the needed dependencies."
   ]
  },
  {
   "cell_type": "code",
   "execution_count": null,
   "id": "successful-blink",
   "metadata": {},
   "outputs": [],
   "source": [
    "%%bash\n",
    "pip install jina[optimizer]"
   ]
  },
  {
   "cell_type": "markdown",
   "id": "mechanical-hydrogen",
   "metadata": {},
   "source": [
    "### Imports\n",
    "\n",
    "First, let's get all needed imports."
   ]
  },
  {
   "cell_type": "code",
   "execution_count": null,
   "id": "tender-balance",
   "metadata": {},
   "outputs": [],
   "source": [
    "import numpy as np\n",
    "from jina import Document\n",
    "from jina.executors.encoders import BaseEncoder\n",
    "from jina.optimizers import FlowOptimizer, MeanEvaluationCallback\n",
    "from jina.optimizers.flow_runner import SingleFlowRunner\n"
   ]
  },
  {
   "cell_type": "markdown",
   "id": "directed-waste",
   "metadata": {},
   "source": [
    "### Flow definition\n",
    "\n",
    "For simplicity the Flow consists of two parts: An Encoder and an Evaluator.\n",
    "The `SimpleEncoder` attaches an embedding to each given Document.\n",
    "The `EuclideanEvaluator` scores the embedding agains a given groundtruth.\n",
    "\n",
    "`ENCODER_LAYER` allows the optimizer to change the Encoder configuration with each iteration.\n",
    "Beware, that the Pod definition is done via the inline syntax of Jina."
   ]
  },
  {
   "cell_type": "code",
   "execution_count": null,
   "id": "imported-marriage",
   "metadata": {},
   "outputs": [],
   "source": [
    "flow = '''jtype: Flow\n",
    "version: '1'\n",
    "pods:\n",
    "  - uses:\n",
    "      jtype: SimpleEncoder\n",
    "      with:\n",
    "        layer: ${{JINA_ENCODER_LAYER}}\n",
    "  - uses: EuclideanEvaluator\n",
    "'''"
   ]
  },
  {
   "cell_type": "markdown",
   "id": "wooden-window",
   "metadata": {},
   "source": [
    "### Encoder Definition\n",
    "\n",
    "Now we will fake a model with three layers.\n",
    "For simplicity each layer only consists of a single integer which is taken as the embedding.\n"
   ]
  },
  {
   "cell_type": "code",
   "execution_count": null,
   "id": "peripheral-insight",
   "metadata": {},
   "outputs": [],
   "source": [
    "class SimpleEncoder(BaseEncoder):\n",
    "\n",
    "    ENCODE_LOOKUP = {\n",
    "        '🐲': [1, 3, 5],\n",
    "        '🐦': [2, 4, 7],\n",
    "        '🐢': [0, 2, 5],\n",
    "    }\n",
    "\n",
    "    def __init__(self, layer=0, *args, **kwargs):\n",
    "        super().__init__(*args, **kwargs)\n",
    "        self._layer = layer\n",
    "\n",
    "    def encode(self, data, *args, **kwargs) -> 'np.ndarray':\n",
    "        return np.array([[self.ENCODE_LOOKUP[data[0]][self._layer]]])\n"
   ]
  },
  {
   "cell_type": "markdown",
   "id": "imported-paraguay",
   "metadata": {},
   "source": [
    "### Parameter definition\n",
    "\n",
    "We are loading the parameter from the `parameter.yml` file.\n",
    "Let's create it.\n"
   ]
  },
  {
   "cell_type": "code",
   "execution_count": null,
   "id": "previous-arbor",
   "metadata": {},
   "outputs": [],
   "source": [
    "with open('parameter.yml', 'w') as param_file:\n",
    "    param_file.write('''- !IntegerParameter\n",
    "  jaml_variable: JINA_ENCODER_LAYER\n",
    "  high: 2\n",
    "  low: 0\n",
    "  step_size: 1\n",
    "''')"
   ]
  },
  {
   "cell_type": "markdown",
   "id": "dirty-operations",
   "metadata": {},
   "source": [
    "### Defining rerunnable Flows\n",
    "\n",
    "For optimization, we need to run almost equal Flows again and again with the same data.\n",
    "This is realized with a `SingleFlowRunner`.\n",
    "\n",
    "The same Documents are used for each Flow Optimization step.\n",
    "`documents` consists of `document, groundtruth` pairs.\n",
    "The given embedding represents the perfect semantic embedding."
   ]
  },
  {
   "cell_type": "code",
   "execution_count": null,
   "id": "occupational-williams",
   "metadata": {},
   "outputs": [],
   "source": [
    "documents = [\n",
    "    (Document(content='🐲'), Document(embedding=np.array([2]))),\n",
    "    (Document(content='🐦'), Document(embedding=np.array([3]))),\n",
    "    (Document(content='🐢'), Document(embedding=np.array([3])))\n",
    "]\n",
    "\n",
    "runner = SingleFlowRunner(\n",
    "    flow, documents, 1, 'search', overwrite_workspace=True\n",
    ")\n"
   ]
  },
  {
   "cell_type": "markdown",
   "id": "civic-prevention",
   "metadata": {},
   "source": [
    "### Run the Optimization\n",
    "\n",
    "Now we are ready to run the Optimization.\n",
    "The `MeanEvaluationCallback` gathers the evaluations from all three sended Documents per run.\n",
    "After each run, it returns the mean of the single evaluations."
   ]
  },
  {
   "cell_type": "code",
   "execution_count": null,
   "id": "given-chemistry",
   "metadata": {},
   "outputs": [],
   "source": [
    "optimizer = FlowOptimizer(\n",
    "    flow_runner=runner,\n",
    "    parameter_yaml='parameter.yml',\n",
    "    evaluation_callback=MeanEvaluationCallback(),\n",
    "    n_trials=3,\n",
    "    direction='minimize',\n",
    "    seed=1\n",
    ")\n",
    "\n",
    "optimizer.optimize_flow()\n"
   ]
  }
 ],
 "metadata": {
  "kernelspec": {
   "display_name": "Python 3",
   "language": "python",
   "name": "python3"
  },
  "language_info": {
   "codemirror_mode": {
    "name": "ipython",
    "version": 3
   },
   "file_extension": ".py",
   "mimetype": "text/x-python",
   "name": "python",
   "nbconvert_exporter": "python",
   "pygments_lexer": "ipython3",
   "version": "3.7.10"
  }
 },
 "nbformat": 4,
 "nbformat_minor": 5
}
